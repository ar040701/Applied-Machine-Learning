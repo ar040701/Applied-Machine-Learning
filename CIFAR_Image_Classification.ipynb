{
  "nbformat": 4,
  "nbformat_minor": 0,
  "metadata": {
    "colab": {
      "provenance": [],
      "gpuType": "T4",
      "authorship_tag": "ABX9TyMjU39EbKmr/wRznnvhJ6d6",
      "include_colab_link": true
    },
    "kernelspec": {
      "name": "python3",
      "display_name": "Python 3"
    },
    "language_info": {
      "name": "python"
    },
    "accelerator": "GPU"
  },
  "cells": [
    {
      "cell_type": "markdown",
      "metadata": {
        "id": "view-in-github",
        "colab_type": "text"
      },
      "source": [
        "<a href=\"https://colab.research.google.com/github/ar040701/DeepLearningProjects/blob/main/CIFAR_Image_Classification.ipynb\" target=\"_parent\"><img src=\"https://colab.research.google.com/assets/colab-badge.svg\" alt=\"Open In Colab\"/></a>"
      ]
    },
    {
      "cell_type": "code",
      "execution_count": 55,
      "metadata": {
        "id": "WPJ3cZw8j8pm"
      },
      "outputs": [],
      "source": [
        "import torch\n",
        "import torchvision\n",
        "import torch.nn as nn\n",
        "from torchvision import datasets\n",
        "from torchvision import transforms\n",
        "import torch.nn.functional as f\n",
        "import torch.optim as optim\n",
        "from torch.utils.data import DataLoader"
      ]
    },
    {
      "cell_type": "code",
      "source": [
        "devices=torch.device('cuda' if torch.cuda.is_available() else 'cpu')\n",
        "devices"
      ],
      "metadata": {
        "colab": {
          "base_uri": "https://localhost:8080/"
        },
        "id": "IxB2-P_g0FUV",
        "outputId": "0cf1f97e-c960-4b0f-bde4-0c98ba77c0e8"
      },
      "execution_count": 56,
      "outputs": [
        {
          "output_type": "execute_result",
          "data": {
            "text/plain": [
              "device(type='cuda')"
            ]
          },
          "metadata": {},
          "execution_count": 56
        }
      ]
    },
    {
      "cell_type": "code",
      "source": [
        "transform=transforms.Compose([\n",
        "    transforms.ToTensor(),\n",
        "    transforms.Normalize((0.5,0.5,0.5),(0.5,0.5,0.5))])\n",
        "\n",
        "train_dataset=datasets.CIFAR10(root='./data',train=True,download=True,transform=transform)\n",
        "test_dataset=datasets.CIFAR10(root='./data',train=False,download=True,transform=transform)"
      ],
      "metadata": {
        "id": "j0plupT1lnBY"
      },
      "execution_count": 57,
      "outputs": []
    },
    {
      "cell_type": "code",
      "source": [
        "#Getting features and labels from the first image\n",
        "features,labels=train_dataset[0]\n",
        "features.shape,labels"
      ],
      "metadata": {
        "colab": {
          "base_uri": "https://localhost:8080/"
        },
        "id": "hNOhSzj2sNkf",
        "outputId": "fdf41350-76dc-47c3-bf32-a05e0a5b8715"
      },
      "execution_count": 58,
      "outputs": [
        {
          "output_type": "execute_result",
          "data": {
            "text/plain": [
              "(torch.Size([3, 32, 32]), 6)"
            ]
          },
          "metadata": {},
          "execution_count": 58
        }
      ]
    },
    {
      "cell_type": "code",
      "source": [
        "train_loader=DataLoader(train_dataset,batch_size=32, shuffle=True,num_workers=2)\n",
        "test_loader=DataLoader(test_dataset,batch_size=32, shuffle=False,num_workers=2)"
      ],
      "metadata": {
        "id": "d7IYeSknsxrD"
      },
      "execution_count": 59,
      "outputs": []
    },
    {
      "cell_type": "code",
      "source": [
        "classes_name=['plane','car','bird','cat','deer','dog','frog','horse','ship','truck']"
      ],
      "metadata": {
        "id": "7BH0jW0YyXVd"
      },
      "execution_count": 60,
      "outputs": []
    },
    {
      "cell_type": "code",
      "source": [
        "#Define a model\n",
        "class CNN(nn.Module):\n",
        "    def __init__(self):\n",
        "      super().__init__()\n",
        "      self.conv1=nn.Conv2d(3,8,5) #(8,28,28)\n",
        "      self.bn1=nn.BatchNorm2d(8)\n",
        "      self.pool1=nn.MaxPool2d(2,2) #(8,14,14)\n",
        "      self.conv2=nn.Conv2d(8,16,5)  #(16,10,10) -> flatten (16*5*5)\n",
        "      self.bn2=nn.BatchNorm2d(16)\n",
        "      self.dropuout1=nn.Dropout(0.25)\n",
        "\n",
        "      #Fully connected layers\n",
        "      self.ll1=nn.Linear(16*5*5, 120)\n",
        "      self.ll2=nn.Linear(120,64)\n",
        "      self.ll3=nn.Linear(64,10)\n",
        "\n",
        "    def forward(self,x):\n",
        "      x=f.relu(self.bn1(self.conv1(x)))\n",
        "      x=self.pool1(x)\n",
        "      x=f.relu(self.bn2(self.conv2(x)))\n",
        "      x=self.pool1(x)\n",
        "      x=self.dropuout1(x)\n",
        "      x=torch.flatten(x,1)\n",
        "      x=f.relu(self.ll1(x))\n",
        "      x=self.ll2(x)\n",
        "      return x\n"
      ],
      "metadata": {
        "id": "qfk2vgDytrwg"
      },
      "execution_count": 61,
      "outputs": []
    },
    {
      "cell_type": "code",
      "source": [
        "model=CNN()\n",
        "loss_function=nn.CrossEntropyLoss()\n",
        "optimizer=optim.SGD(model.parameters(),lr=0.001, weight_decay=0.001)"
      ],
      "metadata": {
        "id": "uYb0j_lnOfVU"
      },
      "execution_count": 62,
      "outputs": []
    },
    {
      "cell_type": "code",
      "source": [
        "epoch_rate=30\n",
        "\n",
        "for epoch in range(epoch_rate):\n",
        "  running_loss=0.0\n",
        "  print(f'training epoch {epoch}...')\n",
        "  #For training dataset\n",
        "  for i,data in enumerate(train_loader):\n",
        "    branch_features, branch_labels=data\n",
        "\n",
        "    y_pred= model(branch_features)\n",
        "    loss= loss_function(y_pred,branch_labels)\n",
        "\n",
        "    optimizer.zero_grad()\n",
        "    loss.backward()\n",
        "    optimizer.step()\n",
        "\n",
        "    running_loss+=loss.item()\n",
        "  print(f'loss: {running_loss/len(train_loader)}')\n",
        "\n",
        "\n"
      ],
      "metadata": {
        "colab": {
          "base_uri": "https://localhost:8080/"
        },
        "id": "Sxc5Q72sOowv",
        "outputId": "4013dad2-c17c-48b2-d142-163212f599bd"
      },
      "execution_count": 63,
      "outputs": [
        {
          "output_type": "stream",
          "name": "stdout",
          "text": [
            "training epoch 0...\n",
            "loss: 2.474063517951233\n",
            "training epoch 1...\n",
            "loss: 1.7846633250028447\n",
            "training epoch 2...\n",
            "loss: 1.6256251885810116\n",
            "training epoch 3...\n",
            "loss: 1.5380605312775741\n",
            "training epoch 4...\n",
            "loss: 1.4791204091149572\n",
            "training epoch 5...\n",
            "loss: 1.4432387361904786\n",
            "training epoch 6...\n",
            "loss: 1.4085415297796233\n",
            "training epoch 7...\n",
            "loss: 1.3822915702009537\n",
            "training epoch 8...\n",
            "loss: 1.3585299455196675\n",
            "training epoch 9...\n",
            "loss: 1.3375422663209686\n",
            "training epoch 10...\n",
            "loss: 1.3174406777035328\n",
            "training epoch 11...\n",
            "loss: 1.3002672409370628\n",
            "training epoch 12...\n",
            "loss: 1.2792322075069522\n",
            "training epoch 13...\n",
            "loss: 1.2558801686313774\n",
            "training epoch 14...\n",
            "loss: 1.2454364381001228\n",
            "training epoch 15...\n",
            "loss: 1.2310979831165332\n",
            "training epoch 16...\n",
            "loss: 1.218834689543633\n",
            "training epoch 17...\n",
            "loss: 1.2082295895995654\n",
            "training epoch 18...\n",
            "loss: 1.1979132789644156\n",
            "training epoch 19...\n",
            "loss: 1.1884465900202708\n",
            "training epoch 20...\n",
            "loss: 1.1842118250355076\n",
            "training epoch 21...\n",
            "loss: 1.1757524776214678\n",
            "training epoch 22...\n",
            "loss: 1.1681428473878959\n",
            "training epoch 23...\n",
            "loss: 1.1580960738376709\n",
            "training epoch 24...\n",
            "loss: 1.1552506129633366\n",
            "training epoch 25...\n",
            "loss: 1.1471106791374246\n",
            "training epoch 26...\n",
            "loss: 1.1411720600482065\n",
            "training epoch 27...\n",
            "loss: 1.1341974332556843\n",
            "training epoch 28...\n",
            "loss: 1.1319073215937354\n",
            "training epoch 29...\n",
            "loss: 1.1251576380018844\n"
          ]
        }
      ]
    },
    {
      "cell_type": "code",
      "source": [
        "torch.save(model.state_dict(),'model.pth')\n"
      ],
      "metadata": {
        "id": "bobcJeXeT4zT"
      },
      "execution_count": 64,
      "outputs": []
    },
    {
      "cell_type": "code",
      "source": [
        "net=CNN()\n",
        "net.load_state_dict(torch.load('model.pth'))"
      ],
      "metadata": {
        "colab": {
          "base_uri": "https://localhost:8080/"
        },
        "id": "ptMw64UDR20S",
        "outputId": "afbbadf0-6af1-4bd4-a82a-c60cff782f06"
      },
      "execution_count": 65,
      "outputs": [
        {
          "output_type": "execute_result",
          "data": {
            "text/plain": [
              "<All keys matched successfully>"
            ]
          },
          "metadata": {},
          "execution_count": 65
        }
      ]
    },
    {
      "cell_type": "code",
      "source": [
        "net.eval()\n",
        "correct=0\n",
        "total=0\n",
        "\n",
        "with torch.no_grad():\n",
        "  for data in test_loader:\n",
        "    branch_features, branch_labels=data\n",
        "    outputs=net(branch_features)\n",
        "    _,predicted=torch.max(outputs,1) #returns a tuple (value, index)\n",
        "    total+=branch_labels.size(0)\n",
        "    correct+=(predicted==branch_labels).sum().item()\n",
        "accuracy=100*correct/total\n",
        "print(f'Accuracy of the network on the 10000 test images: {accuracy}%')\n"
      ],
      "metadata": {
        "colab": {
          "base_uri": "https://localhost:8080/"
        },
        "id": "e3xQqBqXX3cN",
        "outputId": "a4dfba92-94ac-4d96-c911-ec735f03e15f"
      },
      "execution_count": 66,
      "outputs": [
        {
          "output_type": "stream",
          "name": "stdout",
          "text": [
            "Accuracy of the network on the 10000 test images: 61.44%\n"
          ]
        }
      ]
    },
    {
      "cell_type": "code",
      "source": [
        "from PIL import Image\n",
        "new_transform=transforms.Compose([\n",
        "    transforms.Resize((32,32)),\n",
        "    transforms.ToTensor(),\n",
        "    transforms.Normalize((0.5,0.5,0.5),(0.5,0.5,0.5))])\n",
        "\n",
        "def load_image(image_path):\n",
        "  image=Image.open(image_path)\n",
        "  image=new_transform(image)\n",
        "  image=torch.unsqueeze(image,0)\n",
        "  return image\n",
        "\n",
        "image_paths = ['/download.jpg','/example2.jpg']\n",
        "images = [load_image(img) for img in image_paths]\n",
        "\n",
        "net.eval()\n",
        "with torch.no_grad():\n",
        "  for image in images:\n",
        "    output=net(image)\n",
        "    _,predicted=torch.max(output,1)\n",
        "    print(f'Prediction:{classes_name[predicted]}')"
      ],
      "metadata": {
        "colab": {
          "base_uri": "https://localhost:8080/"
        },
        "id": "7Og27Ty5iRDy",
        "outputId": "201893d4-edce-4a85-b0be-65b0fa702966"
      },
      "execution_count": 72,
      "outputs": [
        {
          "output_type": "stream",
          "name": "stdout",
          "text": [
            "Prediction:dog\n",
            "Prediction:horse\n"
          ]
        }
      ]
    }
  ]
}